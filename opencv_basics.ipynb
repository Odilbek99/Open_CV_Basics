{
 "cells": [
  {
   "cell_type": "markdown",
   "metadata": {},
   "source": [
    "<h1>OPEN CV</h1>"
   ]
  },
  {
   "cell_type": "code",
   "execution_count": 1,
   "metadata": {},
   "outputs": [],
   "source": [
    "import cv2 as cv\n",
    "import numpy as np\n",
    "import matplotlib.pyplot as plt"
   ]
  },
  {
   "cell_type": "markdown",
   "metadata": {},
   "source": [
    "<h1>READING IMAGE and SHOWING</h1>"
   ]
  },
  {
   "cell_type": "code",
   "execution_count": null,
   "metadata": {},
   "outputs": [],
   "source": [
    "# READING IMAGE and SHOWING\n",
    "img = cv.imread('./Images/flower.jpg')\n",
    "cv.imshow('df', img)\n",
    "\n",
    "cv.waitKey(0)"
   ]
  },
  {
   "cell_type": "markdown",
   "metadata": {},
   "source": [
    "<h1>READING VIDEO and SHOWING</h1>"
   ]
  },
  {
   "cell_type": "code",
   "execution_count": null,
   "metadata": {},
   "outputs": [],
   "source": [
    "# READING VIDEO and SHOWING\n",
    "capture = cv.VideoCapture('./Videos/video.mp4')\n",
    "while True:\n",
    "    isTrue, frame = capture.read()\n",
    "    cv.imshow('Video', frame)\n",
    "\n",
    "    if cv.waitKey(0) and 0xFF==ord('q'):\n",
    "        break\n",
    "\n",
    "capture.release()\n",
    "cv.destroyAllWindows()"
   ]
  },
  {
   "cell_type": "markdown",
   "metadata": {},
   "source": [
    "<h1>DRAWING</h1>\n",
    "    <li>Drawing Rectangle</li>\n",
    "    <li>Drawing Circle </li>\n",
    "    <li>Drawing line </li>\n"
   ]
  },
  {
   "cell_type": "code",
   "execution_count": null,
   "metadata": {},
   "outputs": [],
   "source": [
    "# Drawing Rectangle\n",
    "img_nature = cv.imread('./Images/nature.jpg')\n",
    "print(img_nature.shape)\n",
    "rect_ = cv.rectangle(img_nature, (50,50), (250,250), (255,255,255), thickness=3)\n",
    "cv.imshow('RECTANGLE', rect_)\n",
    "\n",
    "cv.waitKey(0)\n"
   ]
  },
  {
   "cell_type": "code",
   "execution_count": null,
   "metadata": {},
   "outputs": [],
   "source": [
    "# Drawing Circle\n",
    "circle = cv.circle(img_nature, (img_nature.shape[1]//2, img_nature.shape[0]//2), 100, (255,0,0), thickness=-1)\n",
    "cv.imshow('CIRCLE', circle)\n",
    "\n",
    "cv.waitKey(0)"
   ]
  },
  {
   "cell_type": "code",
   "execution_count": null,
   "metadata": {},
   "outputs": [],
   "source": [
    "# Drawing line\n",
    "line = cv.line(img_nature, (0,0), (img_nature.shape[1], img_nature.shape[0]), (0,0,0), thickness=3)\n",
    "cv.imshow('LINE', line)\n",
    "\n",
    "cv.waitKey(0)"
   ]
  },
  {
   "cell_type": "markdown",
   "metadata": {},
   "source": [
    "<h1>BASICS</h1>\n",
    "    <li>Converting BGR to another Channels</li>\n",
    "    <li>Blur </li>\n",
    "    <li>Edge Cascade </li>\n",
    "    <li>Dilating</li>\n",
    "    <li>Eroding --> opposite of Dilating</li>"
   ]
  },
  {
   "cell_type": "code",
   "execution_count": 3,
   "metadata": {},
   "outputs": [
    {
     "data": {
      "text/plain": [
       "-1"
      ]
     },
     "execution_count": 3,
     "metadata": {},
     "output_type": "execute_result"
    }
   ],
   "source": [
    "# Converting BGR to another Channels\n",
    "img_girl = cv.imread('./Images/girl.jpg')\n",
    "cv.imshow('Girl', img_girl)\n",
    "\n",
    "cv.waitKey(0)"
   ]
  },
  {
   "cell_type": "code",
   "execution_count": null,
   "metadata": {},
   "outputs": [],
   "source": [
    "# Converting BGR to another Channels\n",
    "# BGR TO RGB\n",
    "rgb = cv.cvtColor(img_girl, cv.COLOR_BGR2RGB)\n",
    "\n",
    "# BGR TO GRAY\n",
    "gray = cv.cvtColor(img_girl, cv.COLOR_BGR2GRAY)\n",
    "\n",
    "# RGB TO BGR  \n",
    "rgb2bgr = cv.cvtColor(rgb, cv.COLOR_RGB2BGR)\n",
    "\n",
    "# GRAY TO BGR\n",
    "gray2bgr = cv.cvtColor(gray, cv.COLOR_GRAY2BGR)\n",
    "\n",
    "cv.imshow('RGB', rgb)\n",
    "cv.imshow('GRAY', gray)\n",
    "cv.imshow('rgb2bgr', rgb2bgr)\n",
    "cv.imshow('gray2bgr', gray2bgr)\n",
    "\n",
    "cv.waitKey(0)"
   ]
  },
  {
   "cell_type": "code",
   "execution_count": 4,
   "metadata": {},
   "outputs": [
    {
     "data": {
      "text/plain": [
       "-1"
      ]
     },
     "execution_count": 4,
     "metadata": {},
     "output_type": "execute_result"
    }
   ],
   "source": [
    "# Blur\n",
    "blur = cv.GaussianBlur(img_girl, (5,5), cv.BORDER_DEFAULT)\n",
    "cv.imshow(\"Original\", img_girl)\n",
    "cv.imshow(\"Blur\", blur)\n",
    "\n",
    "cv.waitKey(0)"
   ]
  },
  {
   "cell_type": "code",
   "execution_count": 11,
   "metadata": {},
   "outputs": [
    {
     "data": {
      "text/plain": [
       "-1"
      ]
     },
     "execution_count": 11,
     "metadata": {},
     "output_type": "execute_result"
    }
   ],
   "source": [
    "# Edge Cascade\n",
    "canny = cv.Canny(img_girl, 50, 200)\n",
    "cv.imshow(\"Canny\", canny)\n",
    "cv.imshow(\"Original\", img_girl)\n",
    "\n",
    "cv.waitKey(0)"
   ]
  },
  {
   "cell_type": "code",
   "execution_count": 12,
   "metadata": {},
   "outputs": [
    {
     "data": {
      "text/plain": [
       "-1"
      ]
     },
     "execution_count": 12,
     "metadata": {},
     "output_type": "execute_result"
    }
   ],
   "source": [
    "# Dilating\n",
    "dilate = cv.dilate(canny, (3,3), iterations=3)\n",
    "cv.imshow('Dilate',dilate)\n",
    "cv.imshow(\"Canny\", canny)\n",
    "\n",
    "cv.waitKey(0)"
   ]
  },
  {
   "cell_type": "code",
   "execution_count": 13,
   "metadata": {},
   "outputs": [
    {
     "data": {
      "text/plain": [
       "-1"
      ]
     },
     "execution_count": 13,
     "metadata": {},
     "output_type": "execute_result"
    }
   ],
   "source": [
    "# Eroding --> opposite of Dilating\n",
    "erode = cv.erode(dilate, (3,3), iterations=3)\n",
    "cv.imshow('Erode',erode)\n",
    "cv.imshow('Dilate',dilate)\n",
    "cv.imshow(\"Canny\", canny)\n",
    "\n",
    "cv.waitKey(0)"
   ]
  },
  {
   "cell_type": "markdown",
   "metadata": {},
   "source": [
    "<h1>RESIZING</h1>"
   ]
  },
  {
   "cell_type": "code",
   "execution_count": 17,
   "metadata": {},
   "outputs": [
    {
     "name": "stdout",
     "output_type": "stream",
     "text": [
      "Shape of Original Image:   (426, 640, 3)\n",
      "Shape of Resized Image:   (350, 350, 3)\n"
     ]
    },
    {
     "data": {
      "text/plain": [
       "-1"
      ]
     },
     "execution_count": 17,
     "metadata": {},
     "output_type": "execute_result"
    }
   ],
   "source": [
    "# Resizing\n",
    "resized = cv.resize(img_girl, (350,350), cv.INTER_AREA)\n",
    "cv.imshow('Resized Image', resized)\n",
    "cv.imshow('Original Image', img_girl)\n",
    "print('Shape of Original Image:  ', img_girl.shape)\n",
    "print('Shape of Resized Image:  ', resized.shape)\n",
    "\n",
    "\n",
    "cv.waitKey(0)"
   ]
  },
  {
   "cell_type": "markdown",
   "metadata": {},
   "source": [
    "<h1>CROPPING</h1>"
   ]
  },
  {
   "cell_type": "code",
   "execution_count": 28,
   "metadata": {},
   "outputs": [
    {
     "data": {
      "text/plain": [
       "-1"
      ]
     },
     "execution_count": 28,
     "metadata": {},
     "output_type": "execute_result"
    }
   ],
   "source": [
    "# Cropping \n",
    "crop = img_girl[20:230, 250:430]\n",
    "cv.imshow('Cropped', crop)\n",
    "cv.imshow('Original Image', img_girl)\n",
    "\n",
    "cv.waitKey(0)"
   ]
  },
  {
   "cell_type": "markdown",
   "metadata": {},
   "source": [
    "<h1>IMAGE TRANSFORMATION</h1>\n",
    "<li>Translation</li>\n",
    "<li>Rotation</li>\n",
    "<li>Flipping</li>"
   ]
  },
  {
   "cell_type": "code",
   "execution_count": 2,
   "metadata": {},
   "outputs": [
    {
     "data": {
      "text/plain": [
       "-1"
      ]
     },
     "execution_count": 2,
     "metadata": {},
     "output_type": "execute_result"
    }
   ],
   "source": [
    "cat = cv.imread('./Images/cat.jpg')\n",
    "cv.imshow('Cat', cat)\n",
    "\n",
    "cv.waitKey(0)"
   ]
  },
  {
   "cell_type": "code",
   "execution_count": 31,
   "metadata": {},
   "outputs": [
    {
     "name": "stdout",
     "output_type": "stream",
     "text": [
      "[[  1.   0.  50.]\n",
      " [  0.   1. 150.]]\n"
     ]
    },
    {
     "data": {
      "text/plain": [
       "-1"
      ]
     },
     "execution_count": 31,
     "metadata": {},
     "output_type": "execute_result"
    }
   ],
   "source": [
    "# Translation\n",
    "def translate(image, x, y):\n",
    "    matrix = np.float32([[1,0,x],[0,1,y]]) # called an affine transformation matrix\n",
    "    dimension = (image.shape[1],image.shape[0])\n",
    "    print(matrix)\n",
    "\n",
    "    return cv.warpAffine(image, matrix, dimension)\n",
    "\n",
    "translated = translate(cat, 50, 150)\n",
    "cv.imshow('Translated Cat', translated)\n",
    "cv.imshow('Original', cat)\n",
    "\n",
    "cv.waitKey(0)"
   ]
  },
  {
   "cell_type": "code",
   "execution_count": 10,
   "metadata": {},
   "outputs": [
    {
     "data": {
      "text/plain": [
       "-1"
      ]
     },
     "execution_count": 10,
     "metadata": {},
     "output_type": "execute_result"
    }
   ],
   "source": [
    "# Rotation\n",
    "rotated_180 = cv.rotate(cat, cv.ROTATE_180)\n",
    "rotated_clockwise_90 = cv.rotate(cat, cv.ROTATE_90_CLOCKWISE)\n",
    "rotated_counterclockwise_90 = cv.rotate(cat, cv.ROTATE_90_COUNTERCLOCKWISE)\n",
    "cv.imshow('Rotated', rotated_180)\n",
    "cv.imshow('Rotated clockwise', rotated_clockwise_90)\n",
    "cv.imshow('Rotated counterclockwise', rotated_counterclockwise_90)\n",
    "cv.imshow('Original', cat)\n",
    "\n",
    "cv.waitKey(0)"
   ]
  },
  {
   "cell_type": "code",
   "execution_count": 11,
   "metadata": {},
   "outputs": [
    {
     "data": {
      "text/plain": [
       "-1"
      ]
     },
     "execution_count": 11,
     "metadata": {},
     "output_type": "execute_result"
    }
   ],
   "source": [
    "# Rotation -->> 2nd way\n",
    "def rotate(image, angle, rotPoint = None):\n",
    "    (width, height) = image.shape[:2]\n",
    "\n",
    "    if rotPoint is None:\n",
    "        rotPoint = (width//2,height//2)\n",
    "\n",
    "    rotMat = cv.getRotationMatrix2D(rotPoint, angle, 1.0)\n",
    "    dimensions = (width,height)\n",
    "\n",
    "    return cv.warpAffine(image, rotMat, dimensions)\n",
    "\n",
    "rotated = rotate(cat, 45)\n",
    "cv.imshow('Rotated', rotated)\n",
    "\n",
    "cv.waitKey(0)"
   ]
  },
  {
   "cell_type": "code",
   "execution_count": 6,
   "metadata": {},
   "outputs": [
    {
     "data": {
      "text/plain": [
       "-1"
      ]
     },
     "execution_count": 6,
     "metadata": {},
     "output_type": "execute_result"
    }
   ],
   "source": [
    "# Flipping\n",
    "flip1 = cv.flip(cat, 0)\n",
    "flip2 = cv.flip(cat, 1)\n",
    "flip3 = cv.flip(cat, -1)\n",
    "cv.imshow(\"flip1\", flip1)\n",
    "cv.imshow(\"flip2\", flip2)\n",
    "cv.imshow(\"flip3\", flip3)\n",
    "\n",
    "cv.waitKey(0)"
   ]
  },
  {
   "cell_type": "markdown",
   "metadata": {},
   "source": [
    "<h1><b>WRITING TEXT<b></h1>"
   ]
  },
  {
   "cell_type": "code",
   "execution_count": 2,
   "metadata": {},
   "outputs": [
    {
     "data": {
      "text/plain": [
       "-1"
      ]
     },
     "execution_count": 2,
     "metadata": {},
     "output_type": "execute_result"
    }
   ],
   "source": [
    "img_boy = cv.imread('./Images/boy.jpg')\n",
    "cv.imshow('Boy', img_boy)\n",
    "\n",
    "cv.waitKey(0)"
   ]
  },
  {
   "cell_type": "code",
   "execution_count": 9,
   "metadata": {},
   "outputs": [
    {
     "data": {
      "text/plain": [
       "-1"
      ]
     },
     "execution_count": 9,
     "metadata": {},
     "output_type": "execute_result"
    }
   ],
   "source": [
    "# Writing Text\n",
    "text = cv.putText(img_boy, \"This is a boy\", (300,300), cv.FONT_HERSHEY_TRIPLEX, 1.0, (255,255,255), thickness=6 )\n",
    "cv.imshow('Text', text) \n",
    "\n",
    "\n",
    "cv.waitKey(0)"
   ]
  },
  {
   "cell_type": "markdown",
   "metadata": {},
   "source": [
    "<h1>BLANK IMAGE</h1>"
   ]
  },
  {
   "cell_type": "code",
   "execution_count": 10,
   "metadata": {},
   "outputs": [
    {
     "data": {
      "text/plain": [
       "-1"
      ]
     },
     "execution_count": 10,
     "metadata": {},
     "output_type": "execute_result"
    }
   ],
   "source": [
    "blank = np.zeros((text.shape[0], text.shape[1]), dtype='uint8')\n",
    "cv.imshow(\"Blank Image\", blank)\n",
    "\n",
    "\n",
    "cv.waitKey(0)"
   ]
  },
  {
   "cell_type": "markdown",
   "metadata": {},
   "source": [
    "<h1>CONTOURS</h1>"
   ]
  },
  {
   "cell_type": "code",
   "execution_count": 11,
   "metadata": {},
   "outputs": [
    {
     "data": {
      "text/plain": [
       "-1"
      ]
     },
     "execution_count": 11,
     "metadata": {},
     "output_type": "execute_result"
    }
   ],
   "source": [
    "canny = cv.Canny(img_boy, 50, 200)\n",
    "cv.imshow(\"Canny\", canny)\n",
    "\n",
    "cv.waitKey(0)"
   ]
  },
  {
   "cell_type": "code",
   "execution_count": 12,
   "metadata": {},
   "outputs": [
    {
     "data": {
      "text/plain": [
       "-1"
      ]
     },
     "execution_count": 12,
     "metadata": {},
     "output_type": "execute_result"
    }
   ],
   "source": [
    "# THRESHOLD (Changes image to binary. Black and white)\n",
    "ret, threshold = cv.threshold(canny, 100, 255, cv.THRESH_BINARY)\n",
    "cv.imshow('THRESHOLD', threshold)\n",
    "\n",
    "cv.waitKey(0)"
   ]
  },
  {
   "cell_type": "code",
   "execution_count": 13,
   "metadata": {},
   "outputs": [
    {
     "name": "stdout",
     "output_type": "stream",
     "text": [
      "733\n"
     ]
    }
   ],
   "source": [
    "contours, hierarchies =  cv.findContours(threshold, cv.RETR_LIST, cv.CHAIN_APPROX_NONE)\n",
    "print(len(contours))"
   ]
  },
  {
   "cell_type": "code",
   "execution_count": 14,
   "metadata": {},
   "outputs": [
    {
     "data": {
      "text/plain": [
       "-1"
      ]
     },
     "execution_count": 14,
     "metadata": {},
     "output_type": "execute_result"
    }
   ],
   "source": [
    "# Drawing contours to blank image\n",
    "cv.drawContours(blank, contours, -1, (255,255,255), thickness=-1 )\n",
    "cv.imshow('Blank contours', blank)\n",
    "\n",
    "\n",
    "cv.waitKey(0)\n"
   ]
  },
  {
   "cell_type": "markdown",
   "metadata": {},
   "source": [
    "<h1>COLOR CHANNELS</h1>\n",
    "<li>Splitting</li>\n",
    "<li>Merging</li>\n"
   ]
  },
  {
   "cell_type": "code",
   "execution_count": 15,
   "metadata": {},
   "outputs": [
    {
     "data": {
      "text/plain": [
       "-1"
      ]
     },
     "execution_count": 15,
     "metadata": {},
     "output_type": "execute_result"
    }
   ],
   "source": [
    "# Splitting\n",
    "b,g,r = cv.split(img_boy)\n",
    "cv.imshow('B',b)\n",
    "cv.imshow('G',g)\n",
    "cv.imshow('R',r)\n",
    "\n",
    "cv.waitKey(0)"
   ]
  },
  {
   "cell_type": "code",
   "execution_count": 19,
   "metadata": {},
   "outputs": [
    {
     "data": {
      "text/plain": [
       "-1"
      ]
     },
     "execution_count": 19,
     "metadata": {},
     "output_type": "execute_result"
    }
   ],
   "source": [
    "blank2 = np.zeros((text.shape[0], text.shape[1]), dtype='uint8')\n",
    "cv.imshow(\"Blank Image\", blank2)\n",
    "\n",
    "\n",
    "cv.waitKey(0)"
   ]
  },
  {
   "cell_type": "code",
   "execution_count": 21,
   "metadata": {},
   "outputs": [
    {
     "data": {
      "text/plain": [
       "-1"
      ]
     },
     "execution_count": 21,
     "metadata": {},
     "output_type": "execute_result"
    }
   ],
   "source": [
    "# Merging splitted channels with blank image\n",
    "blue = cv.merge([b,blank2,blank2])\n",
    "green = cv.merge([blank2, g, blank2])\n",
    "red = cv.merge([blank2, blank2, r]) \n",
    "cv.imshow(\"BLUE\", blue)\n",
    "cv.imshow(\"MERGED GREEN WITH BLANK\", green)\n",
    "cv.imshow(\"MERGED RED WITH BLANK\", red)\n",
    "\n",
    "cv.waitKey(0)"
   ]
  },
  {
   "cell_type": "code",
   "execution_count": 23,
   "metadata": {},
   "outputs": [
    {
     "data": {
      "text/plain": [
       "-1"
      ]
     },
     "execution_count": 23,
     "metadata": {},
     "output_type": "execute_result"
    }
   ],
   "source": [
    "# Merging channels\n",
    "merge_img = cv.merge([b,g,r])\n",
    "cv.imshow('MERGED - Became to Original', merge_img)\n",
    "\n",
    "cv.waitKey(0)"
   ]
  },
  {
   "cell_type": "markdown",
   "metadata": {},
   "source": [
    "<h1>BLOORING</h1>\n",
    "<li>Gaussian Blur</li>\n",
    "<li>Averaging Blur</li>\n",
    "<li>Meadian Blur</li>\n",
    "<li>Bilateral Blur</li>"
   ]
  },
  {
   "cell_type": "code",
   "execution_count": 2,
   "metadata": {},
   "outputs": [
    {
     "data": {
      "text/plain": [
       "-1"
      ]
     },
     "execution_count": 2,
     "metadata": {},
     "output_type": "execute_result"
    }
   ],
   "source": [
    "img_woman = cv.imread('./Images/woman.jpg')\n",
    "cv.imshow('Woman', img_woman)\n",
    "\n",
    "cv.waitKey(0)"
   ]
  },
  {
   "cell_type": "code",
   "execution_count": 26,
   "metadata": {},
   "outputs": [
    {
     "data": {
      "text/plain": [
       "-1"
      ]
     },
     "execution_count": 26,
     "metadata": {},
     "output_type": "execute_result"
    }
   ],
   "source": [
    "# Using Gaussian Blur\n",
    "gauss_blur = cv.GaussianBlur(img_woman, (5,5),0)\n",
    "cv.imshow('GAUSS BLUR', gauss_blur)\n",
    "cv.imshow('Woman', img_woman)\n",
    "\n",
    "cv.waitKey(0)"
   ]
  },
  {
   "cell_type": "code",
   "execution_count": 27,
   "metadata": {},
   "outputs": [
    {
     "data": {
      "text/plain": [
       "-1"
      ]
     },
     "execution_count": 27,
     "metadata": {},
     "output_type": "execute_result"
    }
   ],
   "source": [
    "# Averaging Blur\n",
    "avg_blur = cv.blur(img_woman, (5,5))\n",
    "cv.imshow('AVERAGE BLUR', avg_blur)\n",
    "cv.imshow('Woman', img_woman)\n",
    "\n",
    "cv.waitKey(0)"
   ]
  },
  {
   "cell_type": "code",
   "execution_count": 28,
   "metadata": {},
   "outputs": [
    {
     "data": {
      "text/plain": [
       "-1"
      ]
     },
     "execution_count": 28,
     "metadata": {},
     "output_type": "execute_result"
    }
   ],
   "source": [
    "# Meadian Blur\n",
    "med_blur = cv.medianBlur(img_woman, 5)\n",
    "cv.imshow('MEDIAN BLUR', med_blur)\n",
    "cv.imshow('Woman', img_woman)\n",
    "\n",
    "cv.waitKey(0)"
   ]
  },
  {
   "cell_type": "code",
   "execution_count": 30,
   "metadata": {},
   "outputs": [
    {
     "data": {
      "text/plain": [
       "-1"
      ]
     },
     "execution_count": 30,
     "metadata": {},
     "output_type": "execute_result"
    }
   ],
   "source": [
    "# Bilateral Blur\n",
    "bil_blur = cv.bilateralFilter(img_woman, 5, 35, 15)\n",
    "cv.imshow('Bilateral BLUR', bil_blur)\n",
    "cv.imshow('Woman', img_woman)\n",
    "\n",
    "cv.waitKey(0)"
   ]
  },
  {
   "cell_type": "markdown",
   "metadata": {},
   "source": [
    "<h1>BITWISE OPERATIONS</h1>\n",
    "<li>BITWISE AND</li>\n",
    "<li>BITWISE OR</li>\n",
    "<li>BITWISE XOR</li>\n",
    "<li>BITWISE NOT</li>"
   ]
  },
  {
   "cell_type": "code",
   "execution_count": 31,
   "metadata": {},
   "outputs": [
    {
     "data": {
      "text/plain": [
       "-1"
      ]
     },
     "execution_count": 31,
     "metadata": {},
     "output_type": "execute_result"
    }
   ],
   "source": [
    "blank = np.zeros((400,400), dtype='uint8')\n",
    "rec = cv.rectangle(blank.copy(), (30,30),(370,370), (255,255,255), thickness=-1)\n",
    "circle = cv.circle(blank.copy(), (int(blank.shape[1]//2),int(blank.shape[0]//2)), 200, (255,255,255), thickness=-1)\n",
    "cv.imshow('Blank', blank)\n",
    "cv.imshow('Rectangle', rec)\n",
    "cv.imshow('circle', circle)\n",
    "\n",
    "cv.waitKey(0)"
   ]
  },
  {
   "cell_type": "code",
   "execution_count": 33,
   "metadata": {},
   "outputs": [
    {
     "data": {
      "text/plain": [
       "-1"
      ]
     },
     "execution_count": 33,
     "metadata": {},
     "output_type": "execute_result"
    }
   ],
   "source": [
    "# BITWISE AND\n",
    "bitwise_and = cv.bitwise_and(rec, circle)\n",
    "cv.imshow('BITWISE AND', bitwise_and)\n",
    "\n",
    "cv.waitKey(0)"
   ]
  },
  {
   "cell_type": "code",
   "execution_count": 34,
   "metadata": {},
   "outputs": [
    {
     "data": {
      "text/plain": [
       "-1"
      ]
     },
     "execution_count": 34,
     "metadata": {},
     "output_type": "execute_result"
    }
   ],
   "source": [
    "# BITWISE OR\n",
    "bitwise_or = cv.bitwise_or(rec, circle)\n",
    "cv.imshow('BITWISE OR', bitwise_or)\n",
    "\n",
    "cv.waitKey(0)"
   ]
  },
  {
   "cell_type": "code",
   "execution_count": 35,
   "metadata": {},
   "outputs": [
    {
     "data": {
      "text/plain": [
       "-1"
      ]
     },
     "execution_count": 35,
     "metadata": {},
     "output_type": "execute_result"
    }
   ],
   "source": [
    "# bitwise XOR \n",
    "bitwise_xor = cv.bitwise_xor(rec, circle)\n",
    "cv.imshow('BITWISE XOR', bitwise_xor)\n",
    "\n",
    "cv.waitKey(0)"
   ]
  },
  {
   "cell_type": "code",
   "execution_count": 36,
   "metadata": {},
   "outputs": [
    {
     "data": {
      "text/plain": [
       "-1"
      ]
     },
     "execution_count": 36,
     "metadata": {},
     "output_type": "execute_result"
    }
   ],
   "source": [
    "# bitwise NOT \n",
    "bitwise_not = cv.bitwise_not(circle)\n",
    "cv.imshow('BITWISE XOR', bitwise_not)\n",
    "\n",
    "cv.waitKey(0)"
   ]
  },
  {
   "cell_type": "markdown",
   "metadata": {},
   "source": [
    "<h1>MASKING</h1>"
   ]
  },
  {
   "cell_type": "code",
   "execution_count": 8,
   "metadata": {},
   "outputs": [
    {
     "data": {
      "text/plain": [
       "-1"
      ]
     },
     "execution_count": 8,
     "metadata": {},
     "output_type": "execute_result"
    }
   ],
   "source": [
    "# Masking\n",
    "blank3 = np.zeros(img_woman.shape[:2], dtype='uint8')\n",
    "\n",
    "mask = cv.circle(blank3, (400,img_woman.shape[0]//2), 100, (255,255,255), -1)\n",
    "cv.imshow('circle', mask)\n",
    "\n",
    "bitwise_and = cv.bitwise_and(img_woman, img_woman, mask=mask)\n",
    "cv.imshow('MASK', bitwise_and)\n",
    "\n",
    "cv.waitKey(0)"
   ]
  },
  {
   "cell_type": "markdown",
   "metadata": {},
   "source": [
    "<h1>HISTOGRAM COMPUTATION</h2>"
   ]
  },
  {
   "cell_type": "code",
   "execution_count": 10,
   "metadata": {},
   "outputs": [
    {
     "data": {
      "text/plain": [
       "-1"
      ]
     },
     "execution_count": 10,
     "metadata": {},
     "output_type": "execute_result"
    }
   ],
   "source": [
    "# BLANK and MASKING\n",
    "blank = np.zeros(img_woman.shape[:2], dtype='uint8')\n",
    "circle = cv.circle(blank, (img_woman.shape[1]//2,img_woman.shape[0]//2), 100, (255,255,255), -1)\n",
    "mask = cv.bitwise_and(img_woman,img_woman,mask=circle)\n",
    "cv.imshow('MASK',mask)\n",
    "\n",
    "cv.waitKey(0)"
   ]
  },
  {
   "cell_type": "code",
   "execution_count": 12,
   "metadata": {},
   "outputs": [
    {
     "data": {
      "image/png": "[encoded data removed]",
      "text/plain": [
       "<Figure size 432x288 with 1 Axes>"
      ]
     },
     "metadata": {
      "needs_background": "light"
     },
     "output_type": "display_data"
    }
   ],
   "source": [
    "# Colour histogram \n",
    "colors = ('b','g','r')\n",
    "for i,col in enumerate(colors):\n",
    "    hist = cv.calcHist([img_woman,mask],[i], None, [256], [0,256])\n",
    "    plt.plot(hist, color=col)\n",
    "    plt.xlim([0,256])\n",
    "\n",
    "plt.show()\n",
    "\n"
   ]
  },
  {
   "cell_type": "markdown",
   "metadata": {},
   "source": [
    "<h1>Thresholding/Binarizing Images</h1>\n",
    "<li>Simple threshold</li>\n",
    "<li>Inverse threshold</li>\n",
    "<li>Adaptive Threshold</li>"
   ]
  },
  {
   "cell_type": "code",
   "execution_count": 3,
   "metadata": {},
   "outputs": [
    {
     "data": {
      "text/plain": [
       "-1"
      ]
     },
     "execution_count": 3,
     "metadata": {},
     "output_type": "execute_result"
    }
   ],
   "source": [
    "gray = cv.cvtColor(img_woman, cv.COLOR_BGR2GRAY)\n",
    "cv.imshow('Gray Image',gray)\n",
    "\n",
    "cv.waitKey(0)"
   ]
  },
  {
   "cell_type": "code",
   "execution_count": 4,
   "metadata": {},
   "outputs": [
    {
     "data": {
      "text/plain": [
       "-1"
      ]
     },
     "execution_count": 4,
     "metadata": {},
     "output_type": "execute_result"
    }
   ],
   "source": [
    "# Simple threshold\n",
    "threshold, thresh = cv.threshold(gray, 150,255,cv.THRESH_BINARY)\n",
    "cv.imshow('THRESH', thresh)\n",
    "\n",
    "cv.waitKey(0)"
   ]
  },
  {
   "cell_type": "code",
   "execution_count": 15,
   "metadata": {},
   "outputs": [
    {
     "data": {
      "text/plain": [
       "-1"
      ]
     },
     "execution_count": 15,
     "metadata": {},
     "output_type": "execute_result"
    }
   ],
   "source": [
    "# Inverse threshold\n",
    "threshold, thresh_inv = cv.threshold(gray, 150,255,cv.THRESH_BINARY_INV)\n",
    "cv.imshow('THRESH', thresh_inv)\n",
    "\n",
    "cv.waitKey(0)"
   ]
  },
  {
   "cell_type": "code",
   "execution_count": 5,
   "metadata": {},
   "outputs": [
    {
     "data": {
      "text/plain": [
       "-1"
      ]
     },
     "execution_count": 5,
     "metadata": {},
     "output_type": "execute_result"
    }
   ],
   "source": [
    "# Adaptive Threshold\n",
    "adaptive_thresh = cv.adaptiveThreshold(gray,255,cv.ADAPTIVE_THRESH_MEAN_C,cv.THRESH_BINARY_INV, 11,10)\n",
    "cv.imshow('ADAPTIVE THRESHOLD', adaptive_thresh)\n",
    "\n",
    "cv.waitKey(0)"
   ]
  },
  {
   "cell_type": "markdown",
   "metadata": {},
   "source": [
    "<h1>Gradients</h1>"
   ]
  },
  {
   "cell_type": "markdown",
   "metadata": {},
   "source": [
    "<h1>METHODS OF EDGE DETECTION</h1>\n",
    "<li>Laplacian</li>\n",
    "<li>Sobel</li>\n",
    "<li>Canny</li>"
   ]
  },
  {
   "cell_type": "code",
   "execution_count": 6,
   "metadata": {},
   "outputs": [
    {
     "data": {
      "text/plain": [
       "-1"
      ]
     },
     "execution_count": 6,
     "metadata": {},
     "output_type": "execute_result"
    }
   ],
   "source": [
    "# Laplacian\n",
    "laplacian = cv.Laplacian(gray, cv.CV_64F)\n",
    "laplacian = np.uint8(np.absolute(laplacian))\n",
    "cv.imshow('LAPLACIAN',laplacian)\n",
    "\n",
    "\n",
    "cv.waitKey(0)"
   ]
  },
  {
   "cell_type": "code",
   "execution_count": 8,
   "metadata": {},
   "outputs": [
    {
     "data": {
      "text/plain": [
       "-1"
      ]
     },
     "execution_count": 8,
     "metadata": {},
     "output_type": "execute_result"
    }
   ],
   "source": [
    "# Sobel\n",
    "sobelX = cv.Sobel(gray, cv.CV_64F, 1,0)\n",
    "sobelY = cv.Sobel(gray, cv.CV_64F, 0,1)\n",
    "combined = cv.bitwise_or(sobelX,sobelY)\n",
    "\n",
    "cv.imshow('sobelX',sobelX)\n",
    "cv.imshow('sobelY',sobelY)\n",
    "cv.imshow('combined',combined)\n",
    "\n",
    "\n",
    "cv.waitKey(0)"
   ]
  },
  {
   "cell_type": "code",
   "execution_count": 9,
   "metadata": {},
   "outputs": [
    {
     "data": {
      "text/plain": [
       "-1"
      ]
     },
     "execution_count": 9,
     "metadata": {},
     "output_type": "execute_result"
    }
   ],
   "source": [
    "# Canny\n",
    "canny = cv.Canny(gray, 50,255)\n",
    "cv.imshow('Canny', canny)\n",
    "\n",
    "cv.waitKey(0)"
   ]
  },
  {
   "cell_type": "markdown",
   "metadata": {},
   "source": [
    "<h1>--------------------------------------------------END-----------------------------------------------</h1>\n",
    "<h1>--------------------------------------------------END-----------------------------------------------</h1>\n",
    "<h1>--------------------------------------------------END-----------------------------------------------</h1>"
   ]
  }
 ],
 "metadata": {
  "interpreter": {
   "hash": "4dc40d88a9d02d3bb3e9fd38ae59776cdbde87fd000b7df101fd19de40085738"
  },
  "kernelspec": {
   "display_name": "Python 3.8.5 64-bit",
   "name": "python3"
  },
  "language_info": {
   "codemirror_mode": {
    "name": "ipython",
    "version": 3
   },
   "file_extension": ".py",
   "mimetype": "text/x-python",
   "name": "python",
   "nbconvert_exporter": "python",
   "pygments_lexer": "ipython3",
   "version": "3.8.5"
  },
  "orig_nbformat": 4
 },
 "nbformat": 4,
 "nbformat_minor": 2
}
